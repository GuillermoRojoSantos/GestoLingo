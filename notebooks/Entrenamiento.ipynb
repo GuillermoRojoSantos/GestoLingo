{
 "cells": [
  {
   "cell_type": "code",
   "execution_count": 45,
   "id": "initial_id",
   "metadata": {
    "collapsed": true,
    "ExecuteTime": {
     "end_time": "2024-03-06T03:53:22.452872400Z",
     "start_time": "2024-03-06T03:53:22.443830500Z"
    }
   },
   "outputs": [],
   "source": [
    "import os\n",
    "import numpy as np\n",
    "import pandas as pd\n",
    "from tensorflow import keras\n",
    "from tensorflow.keras.utils import pad_sequences, to_categorical\n",
    "from tensorflow.keras import layers, callbacks\n",
    "import matplotlib.pyplot as plt\n",
    "from sklearn.model_selection import train_test_split\n",
    "from sklearn.metrics import confusion_matrix\n",
    "from sklearn.metrics import ConfusionMatrixDisplay"
   ]
  },
  {
   "cell_type": "code",
   "outputs": [],
   "source": [
    "words = [x for x in os.listdir(\"../data/treatedDF\")]\n",
    "max_frames = 30\n",
    "word_keypoints = []  # Keypoint sequence for each sample\n",
    "word_nums = []  # Words represented by numbers\n",
    "for num, word in enumerate(words):\n",
    "    df = pd.read_hdf(f\"../data/treatedDF/{word}\")\n",
    "    for num_sample in df.n_sample.unique():\n",
    "        word_keypoints.append([data[\"keypoints\"] for _, data in df[df.n_sample == num_sample].iterrows()])\n",
    "        word_nums.append(num)"
   ],
   "metadata": {
    "collapsed": false,
    "ExecuteTime": {
     "end_time": "2024-03-06T03:22:40.853274100Z",
     "start_time": "2024-03-06T03:22:38.587709900Z"
    }
   },
   "id": "a1de6a730b244f8e",
   "execution_count": 2
  },
  {
   "cell_type": "code",
   "outputs": [],
   "source": [
    "# word_keypoints len is the total number of samples\n",
    "word_keypoints = pad_sequences(word_keypoints, maxlen=30, padding=\"post\", truncating=\"post\", dtype='float32')\n",
    "# word_keypoints shape = (355,60) = (total_n_samples,max_frames)\n",
    "\n",
    "X_train, X_test, y_train, y_test = train_test_split(word_keypoints, word_nums, test_size=0.30)\n",
    "X_train = np.array(X_train)\n",
    "y_train = to_categorical(y_train, num_classes=4, dtype=\"int\")\n",
    "X_test = np.array(X_test)\n",
    "y_test = to_categorical(y_test, num_classes=4, dtype=\"int\")"
   ],
   "metadata": {
    "collapsed": false,
    "ExecuteTime": {
     "end_time": "2024-03-06T03:22:40.884730200Z",
     "start_time": "2024-03-06T03:22:40.855275700Z"
    }
   },
   "id": "577054d1731e9f59",
   "execution_count": 3
  },
  {
   "cell_type": "code",
   "outputs": [],
   "source": [
    "early_stoping = callbacks.EarlyStopping(min_delta=0.001,\n",
    "                                        patience=5,\n",
    "                                        restore_best_weights=True,\n",
    "                                        monitor=\"loss\")\n",
    "model = keras.Sequential(\n",
    "    [layers.LSTM(64, return_sequences=True, activation=\"tanh\", input_shape=(30, 126)),\n",
    "     layers.LSTM(128, return_sequences=True, activation=\"tanh\"),\n",
    "     layers.LSTM(128, return_sequences=False, activation=\"tanh\"),\n",
    "     layers.BatchNormalization(),\n",
    "     layers.Dense(70, activation=\"sigmoid\"),\n",
    "     layers.Dropout(0.2),\n",
    "     layers.Dense(70, activation=\"relu\"),\n",
    "     layers.Dense(70, activation=\"relu\"),\n",
    "     layers.Dropout(0.2),\n",
    "     layers.Dense(70, activation=\"relu\"),\n",
    "     layers.Dense(70, activation=\"relu\"),\n",
    "     layers.Dropout(0.2),\n",
    "     layers.Dense(64, activation=\"relu\"),\n",
    "     layers.Dense(64, activation=\"relu\"),\n",
    "     layers.BatchNormalization(),\n",
    "     layers.Dropout(0.2),\n",
    "     layers.Dense(32, activation=\"sigmoid\"),\n",
    "     layers.Dense(32, activation=\"relu\"),\n",
    "     layers.Dense(4, activation=\"softmax\")]\n",
    ")\n",
    "model.compile(optimizer=\"adam\", loss=\"categorical_crossentropy\", metrics=[\"accuracy\"])"
   ],
   "metadata": {
    "collapsed": false,
    "ExecuteTime": {
     "end_time": "2024-03-06T03:25:07.767798200Z",
     "start_time": "2024-03-06T03:25:06.933064300Z"
    }
   },
   "id": "ab3ec7674ec5e39a",
   "execution_count": 8
  },
  {
   "cell_type": "code",
   "outputs": [
    {
     "name": "stdout",
     "output_type": "stream",
     "text": [
      "Epoch 1/100\n",
      "18/18 [==============================] - 7s 57ms/step - loss: 1.1766 - accuracy: 0.5347 - val_loss: 1.3631 - val_accuracy: 0.2632\n",
      "Epoch 2/100\n",
      "18/18 [==============================] - 0s 17ms/step - loss: 0.7415 - accuracy: 0.7934 - val_loss: 1.2470 - val_accuracy: 0.2632\n",
      "Epoch 3/100\n",
      "18/18 [==============================] - 0s 17ms/step - loss: 0.5086 - accuracy: 0.8854 - val_loss: 1.0093 - val_accuracy: 0.6802\n",
      "Epoch 4/100\n",
      "18/18 [==============================] - 0s 17ms/step - loss: 0.3148 - accuracy: 0.9757 - val_loss: 0.6729 - val_accuracy: 0.9879\n",
      "Epoch 5/100\n",
      "18/18 [==============================] - 0s 18ms/step - loss: 0.2316 - accuracy: 0.9757 - val_loss: 0.4055 - val_accuracy: 0.9919\n",
      "Epoch 6/100\n",
      "18/18 [==============================] - 0s 16ms/step - loss: 0.2494 - accuracy: 0.9340 - val_loss: 0.4547 - val_accuracy: 0.8259\n",
      "Epoch 7/100\n",
      "18/18 [==============================] - 0s 16ms/step - loss: 0.1503 - accuracy: 0.9705 - val_loss: 0.2104 - val_accuracy: 0.9879\n",
      "Epoch 8/100\n",
      "18/18 [==============================] - 0s 17ms/step - loss: 0.0953 - accuracy: 0.9826 - val_loss: 0.1121 - val_accuracy: 0.9879\n",
      "Epoch 9/100\n",
      "18/18 [==============================] - 0s 18ms/step - loss: 0.0559 - accuracy: 0.9965 - val_loss: 0.0871 - val_accuracy: 0.9879\n",
      "Epoch 10/100\n",
      "18/18 [==============================] - 0s 17ms/step - loss: 0.1526 - accuracy: 0.9462 - val_loss: 0.0987 - val_accuracy: 0.9879\n",
      "Epoch 11/100\n",
      "18/18 [==============================] - 0s 17ms/step - loss: 0.0626 - accuracy: 0.9913 - val_loss: 0.0598 - val_accuracy: 0.9919\n",
      "Epoch 12/100\n",
      "18/18 [==============================] - 0s 16ms/step - loss: 0.1006 - accuracy: 0.9774 - val_loss: 0.0581 - val_accuracy: 0.9879\n",
      "Epoch 13/100\n",
      "18/18 [==============================] - 0s 17ms/step - loss: 0.0959 - accuracy: 0.9740 - val_loss: 0.1207 - val_accuracy: 0.9636\n",
      "Epoch 14/100\n",
      "18/18 [==============================] - 0s 19ms/step - loss: 0.0906 - accuracy: 0.9774 - val_loss: 0.0503 - val_accuracy: 0.9919\n"
     ]
    },
    {
     "data": {
      "text/plain": "<Figure size 640x480 with 1 Axes>",
      "image/png": "[encoded data removed]"
     },
     "metadata": {},
     "output_type": "display_data"
    }
   ],
   "source": [
    "history = model.fit(X_train,\n",
    "                    y_train,\n",
    "                    epochs=100,\n",
    "                    validation_data=(X_test, y_test),\n",
    "                    callbacks=[early_stoping])\n",
    "history_df = pd.DataFrame(history.history)\n",
    "history_df.loc[:, ['loss', 'val_loss']].plot()\n",
    "plt.show()"
   ],
   "metadata": {
    "collapsed": false,
    "ExecuteTime": {
     "end_time": "2024-03-06T03:25:23.419651600Z",
     "start_time": "2024-03-06T03:25:12.611007Z"
    }
   },
   "id": "73c6f2d94242e09",
   "execution_count": 9
  },
  {
   "cell_type": "code",
   "outputs": [
    {
     "name": "stdout",
     "output_type": "stream",
     "text": [
      "8/8 [==============================] - 1s 6ms/step\n"
     ]
    }
   ],
   "source": [
    "y_pred = model.predict(X_test)"
   ],
   "metadata": {
    "collapsed": false,
    "ExecuteTime": {
     "end_time": "2024-03-06T03:37:02.903296200Z",
     "start_time": "2024-03-06T03:37:02.004393700Z"
    }
   },
   "id": "785f2eb002434b7e",
   "execution_count": 11
  },
  {
   "cell_type": "code",
   "outputs": [
    {
     "data": {
      "text/plain": "array([[1.],\n       [1.],\n       [1.],\n       [1.]], dtype=float32)"
     },
     "execution_count": 23,
     "metadata": {},
     "output_type": "execute_result"
    }
   ],
   "source": [
    "to_categorical(y_pred[0])"
   ],
   "metadata": {
    "collapsed": false
   },
   "id": "498204e18377cf8b",
   "execution_count": 23
  },
  {
   "cell_type": "code",
   "outputs": [],
   "source": [
    "pred_values = [np.argmax(x) for x in y_pred]\n",
    "pred_values"
   ],
   "metadata": {
    "collapsed": false,
    "ExecuteTime": {
     "end_time": "2024-03-06T03:45:16.168912700Z",
     "start_time": "2024-03-06T03:45:16.161883400Z"
    }
   },
   "id": "3cee3097d43dc3ca",
   "execution_count": 30
  },
  {
   "cell_type": "code",
   "outputs": [
    {
     "data": {
      "text/plain": "[3,\n 0,\n 3,\n 0,\n 2,\n 2,\n 1,\n 0,\n 1,\n 3,\n 1,\n 3,\n 1,\n 1,\n 0,\n 3,\n 1,\n 1,\n 2,\n 2,\n 0,\n 3,\n 1,\n 0,\n 0,\n 0,\n 3,\n 3,\n 3,\n 2,\n 1,\n 1,\n 2,\n 2,\n 0,\n 0,\n 0,\n 1,\n 0,\n 0,\n 3,\n 1,\n 3,\n 2,\n 0,\n 1,\n 2,\n 0,\n 0,\n 1,\n 1,\n 3,\n 2,\n 1,\n 1,\n 1,\n 0,\n 3,\n 1,\n 0,\n 1,\n 1,\n 3,\n 1,\n 3,\n 1,\n 2,\n 3,\n 1,\n 1,\n 0,\n 0,\n 1,\n 1,\n 2,\n 2,\n 3,\n 2,\n 2,\n 2,\n 2,\n 2,\n 0,\n 2,\n 1,\n 2,\n 3,\n 0,\n 3,\n 1,\n 2,\n 2,\n 1,\n 0,\n 0,\n 1,\n 2,\n 3,\n 2,\n 3,\n 3,\n 2,\n 3,\n 3,\n 0,\n 2,\n 0,\n 3,\n 1,\n 2,\n 0,\n 2,\n 1,\n 2,\n 0,\n 2,\n 3,\n 3,\n 3,\n 0,\n 2,\n 2,\n 0,\n 3,\n 3,\n 0,\n 3,\n 1,\n 0,\n 3,\n 0,\n 2,\n 2,\n 0,\n 2,\n 1,\n 1,\n 3,\n 3,\n 1,\n 2,\n 0,\n 0,\n 0,\n 2,\n 2,\n 2,\n 3,\n 0,\n 3,\n 2,\n 3,\n 3,\n 0,\n 1,\n 3,\n 3,\n 3,\n 1,\n 2,\n 0,\n 2,\n 1,\n 1,\n 3,\n 3,\n 0,\n 3,\n 2,\n 0,\n 0,\n 3,\n 0,\n 1,\n 0,\n 3,\n 1,\n 2,\n 1,\n 1,\n 0,\n 3,\n 3,\n 0,\n 0,\n 2,\n 2,\n 2,\n 0,\n 3,\n 1,\n 1,\n 1,\n 0,\n 0,\n 0,\n 3,\n 1,\n 1,\n 2,\n 0,\n 2,\n 2,\n 2,\n 3,\n 3,\n 2,\n 3,\n 0,\n 3,\n 3,\n 2,\n 3,\n 1,\n 1,\n 1,\n 1,\n 3,\n 2,\n 1,\n 2,\n 1,\n 2,\n 0,\n 2,\n 3,\n 3,\n 0,\n 1,\n 2,\n 0,\n 2,\n 2,\n 2,\n 1,\n 1,\n 2,\n 1,\n 0,\n 2,\n 3,\n 0,\n 2,\n 1,\n 2,\n 0,\n 0]"
     },
     "execution_count": 32,
     "metadata": {},
     "output_type": "execute_result"
    }
   ],
   "source": [
    "test_values = [np.argmax(x) for x in y_test]\n",
    "test_values"
   ],
   "metadata": {
    "collapsed": false,
    "ExecuteTime": {
     "end_time": "2024-03-06T03:45:41.561690100Z",
     "start_time": "2024-03-06T03:45:41.544542300Z"
    }
   },
   "id": "a8ed629293c220",
   "execution_count": 32
  },
  {
   "cell_type": "code",
   "outputs": [],
   "source": [
    "mcm = confusion_matrix(test_values, pred_values,labels=[0,1,2,3])"
   ],
   "metadata": {
    "collapsed": false,
    "ExecuteTime": {
     "end_time": "2024-03-06T03:53:30.317660200Z",
     "start_time": "2024-03-06T03:53:30.307626100Z"
    }
   },
   "id": "f97d78cfdddbaab1",
   "execution_count": 46
  },
  {
   "cell_type": "code",
   "outputs": [],
   "source": [
    "disp = ConfusionMatrixDisplay(confusion_matrix=mcm)"
   ],
   "metadata": {
    "collapsed": false,
    "ExecuteTime": {
     "end_time": "2024-03-06T03:53:31.930388300Z",
     "start_time": "2024-03-06T03:53:31.914621200Z"
    }
   },
   "id": "2f1e660c72e1b1c6",
   "execution_count": 47
  },
  {
   "cell_type": "code",
   "outputs": [
    {
     "data": {
      "text/plain": "<Figure size 640x480 with 2 Axes>",
      "image/png": "[encoded data removed]"
     },
     "metadata": {},
     "output_type": "display_data"
    }
   ],
   "source": [
    "disp.plot()\n",
    "plt.show()"
   ],
   "metadata": {
    "collapsed": false,
    "ExecuteTime": {
     "end_time": "2024-03-06T03:53:33.267247500Z",
     "start_time": "2024-03-06T03:53:33.167928600Z"
    }
   },
   "id": "c149db15fd51d93e",
   "execution_count": 48
  },
  {
   "cell_type": "code",
   "outputs": [
    {
     "name": "stdout",
     "output_type": "stream",
     "text": [
      "Model: \"sequential_1\"\n",
      "_________________________________________________________________\n",
      " Layer (type)                Output Shape              Param #   \n",
      "=================================================================\n",
      " lstm (LSTM)                 (None, 30, 64)            48896     \n",
      "                                                                 \n",
      " lstm_1 (LSTM)               (None, 30, 128)           98816     \n",
      "                                                                 \n",
      " lstm_2 (LSTM)               (None, 128)               131584    \n",
      "                                                                 \n",
      " batch_normalization_2 (Batc  (None, 128)              512       \n",
      " hNormalization)                                                 \n",
      "                                                                 \n",
      " dense_13 (Dense)            (None, 70)                9030      \n",
      "                                                                 \n",
      " dropout_4 (Dropout)         (None, 70)                0         \n",
      "                                                                 \n",
      " dense_14 (Dense)            (None, 70)                4970      \n",
      "                                                                 \n",
      " dense_15 (Dense)            (None, 70)                4970      \n",
      "                                                                 \n",
      " dropout_5 (Dropout)         (None, 70)                0         \n",
      "                                                                 \n",
      " dense_16 (Dense)            (None, 70)                4970      \n",
      "                                                                 \n",
      " dense_17 (Dense)            (None, 70)                4970      \n",
      "                                                                 \n",
      " dropout_6 (Dropout)         (None, 70)                0         \n",
      "                                                                 \n",
      " dense_18 (Dense)            (None, 64)                4544      \n",
      "                                                                 \n",
      " dense_19 (Dense)            (None, 64)                4160      \n",
      "                                                                 \n",
      " batch_normalization_3 (Batc  (None, 64)               256       \n",
      " hNormalization)                                                 \n",
      "                                                                 \n",
      " dropout_7 (Dropout)         (None, 64)                0         \n",
      "                                                                 \n",
      " dense_20 (Dense)            (None, 32)                2080      \n",
      "                                                                 \n",
      " dense_21 (Dense)            (None, 32)                1056      \n",
      "                                                                 \n",
      " dense_22 (Dense)            (None, 4)                 132       \n",
      "                                                                 \n",
      "=================================================================\n",
      "Total params: 320,946\n",
      "Trainable params: 320,562\n",
      "Non-trainable params: 384\n",
      "_________________________________________________________________\n",
      "None\n"
     ]
    }
   ],
   "source": [
    "if not os.path.exists(\"../data/model/\"):\n",
    "    os.mkdir(\"../data/model/\")\n",
    "print(model.summary())\n",
    "model.save(\"../data/model/GestoLingo_NoteBook.keras\")"
   ],
   "metadata": {
    "collapsed": false,
    "ExecuteTime": {
     "end_time": "2024-03-06T03:54:32.274150100Z",
     "start_time": "2024-03-06T03:54:32.168113200Z"
    }
   },
   "id": "7b6c1abc1b29adde",
   "execution_count": 49
  }
 ],
 "metadata": {
  "kernelspec": {
   "display_name": "Python 3",
   "language": "python",
   "name": "python3"
  },
  "language_info": {
   "codemirror_mode": {
    "name": "ipython",
    "version": 2
   },
   "file_extension": ".py",
   "mimetype": "text/x-python",
   "name": "python",
   "nbconvert_exporter": "python",
   "pygments_lexer": "ipython2",
   "version": "2.7.6"
  }
 },
 "nbformat": 4,
 "nbformat_minor": 5
}
