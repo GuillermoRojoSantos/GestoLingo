{
 "cells": [
  {
   "cell_type": "code",
   "execution_count": 1,
   "id": "initial_id",
   "metadata": {
    "collapsed": true,
    "ExecuteTime": {
     "end_time": "2024-03-05T01:42:49.560156900Z",
     "start_time": "2024-03-05T01:42:49.271710400Z"
    }
   },
   "outputs": [],
   "source": [
    "import os\n",
    "import pandas as pd\n",
    "import numpy as np"
   ]
  },
  {
   "cell_type": "code",
   "outputs": [],
   "source": [
    "rojo = pd.read_hdf(\"../data/dataFrames/rojo.h5\")\n",
    "hola = pd.read_hdf(\"../data/dataFrames/hola.h5\")\n",
    "mundo = pd.read_hdf(\"../data/dataFrames/mundo.h5\")\n",
    "ordenador = pd.read_hdf(\"../data/dataFrames/ordenador.h5\")"
   ],
   "metadata": {
    "collapsed": false,
    "ExecuteTime": {
     "end_time": "2024-03-05T01:42:51.274620900Z",
     "start_time": "2024-03-05T01:42:49.561172300Z"
    }
   },
   "id": "7e78f1faff581a54",
   "execution_count": 2
  },
  {
   "cell_type": "code",
   "outputs": [
    {
     "name": "stdout",
     "output_type": "stream",
     "text": [
      "Media de frames en el dataset rojo:  16.636363636363637\n",
      "Forma del dataset rojo:  (3843, 3)\n",
      "Número de samples en el dataset rojo:  231\n",
      "\n",
      "Media de frames en el dataset hola:  15.582089552238806\n",
      "Forma del dataset hola:  (3132, 3)\n",
      "Número de samples en el dataset hola:  201\n",
      "\n",
      "Media de frames en el dataset mundo:  29.203980099502488\n",
      "Forma del dataset mundo:  (5870, 3)\n",
      "Número de samples en el dataset mundo:  201\n",
      "\n",
      "Media de frames en el dataset ordenador:  19.823809523809523\n",
      "Forma del dataset ordenador:  (4163, 3)\n",
      "Número de samples en el dataset ordenador:  210\n",
      "\n",
      "Media de frames de todas las muestras:  20.31156070297861\n"
     ]
    }
   ],
   "source": [
    "ls = [rojo,hola,mundo,ordenador]\n",
    "ls_name=[\"rojo\",\"hola\",\"mundo\",\"ordenador\"]\n",
    "hold = []\n",
    "for index,x in enumerate(ls):\n",
    "    print(f\"Media de frames en el dataset {ls_name[index]}: \",x.groupby(\"n_sample\").frame.count().mean())\n",
    "    hold.append(x.groupby(\"n_sample\").frame.count().mean())\n",
    "    print(f\"Forma del dataset {ls_name[index]}: \",x.shape)\n",
    "    print(f\"Número de samples en el dataset {ls_name[index]}: \",len(x.n_sample.unique()))\n",
    "    print()\n",
    "hold = np.array(hold)\n",
    "print(\"Media de frames de todas las muestras: \",hold.mean())"
   ],
   "metadata": {
    "collapsed": false,
    "ExecuteTime": {
     "end_time": "2024-03-05T01:42:51.288362700Z",
     "start_time": "2024-03-05T01:42:51.274620900Z"
    }
   },
   "id": "9ace9edcede0d29",
   "execution_count": 3
  },
  {
   "cell_type": "markdown",
   "source": [
    "Para ir sobre seguros, vamos a poner un número máximo de 60 frames por sample"
   ],
   "metadata": {
    "collapsed": false
   },
   "id": "909e7bfece693831"
  },
  {
   "cell_type": "code",
   "outputs": [],
   "source": [
    "for ind, x in enumerate(ls):\n",
    "    for num in x.n_sample.unique():\n",
    "        indices = x[x.n_sample==num].index\n",
    "        if x.loc[indices[-1],\"frame\"]>60:\n",
    "            x.drop(indices,inplace=True)"
   ],
   "metadata": {
    "collapsed": false,
    "ExecuteTime": {
     "end_time": "2024-03-05T01:42:51.402543700Z",
     "start_time": "2024-03-05T01:42:51.283858Z"
    }
   },
   "id": "d5e5cf4c0eb858eb",
   "execution_count": 4
  },
  {
   "cell_type": "code",
   "outputs": [
    {
     "data": {
      "text/plain": "      n_sample  frame                                          keypoints\n0            0      1  [0.6042745113372803, 0.5187959671020508, 1.306...\n1            0      2  [0.6042745113372803, 0.5187959671020508, 1.306...\n2            0      3  [0.597309947013855, 0.49771803617477417, 8.416...\n3            0      4  [0.5954118967056274, 0.4799729585647583, -7.51...\n4            0      5  [0.5931767225265503, 0.48217013478279114, -5.8...\n...        ...    ...                                                ...\n3838       230      7  [0.5812554955482483, 0.45818161964416504, -9.6...\n3839       230      8  [0.5792388916015625, 0.45673084259033203, -1.9...\n3840       230      9  [0.5792388916015625, 0.45673084259033203, -1.9...\n3841       230     10  [0.5756440162658691, 0.4489127993583679, -7.70...\n3842       230     11  [0.5890816450119019, 0.47995275259017944, -2.1...\n\n[2623 rows x 3 columns]",
      "text/html": "<div>\n<style scoped>\n    .dataframe tbody tr th:only-of-type {\n        vertical-align: middle;\n    }\n\n    .dataframe tbody tr th {\n        vertical-align: top;\n    }\n\n    .dataframe thead th {\n        text-align: right;\n    }\n</style>\n<table border=\"1\" class=\"dataframe\">\n  <thead>\n    <tr style=\"text-align: right;\">\n      <th></th>\n      <th>n_sample</th>\n      <th>frame</th>\n      <th>keypoints</th>\n    </tr>\n  </thead>\n  <tbody>\n    <tr>\n      <th>0</th>\n      <td>0</td>\n      <td>1</td>\n      <td>[0.6042745113372803, 0.5187959671020508, 1.306...</td>\n    </tr>\n    <tr>\n      <th>1</th>\n      <td>0</td>\n      <td>2</td>\n      <td>[0.6042745113372803, 0.5187959671020508, 1.306...</td>\n    </tr>\n    <tr>\n      <th>2</th>\n      <td>0</td>\n      <td>3</td>\n      <td>[0.597309947013855, 0.49771803617477417, 8.416...</td>\n    </tr>\n    <tr>\n      <th>3</th>\n      <td>0</td>\n      <td>4</td>\n      <td>[0.5954118967056274, 0.4799729585647583, -7.51...</td>\n    </tr>\n    <tr>\n      <th>4</th>\n      <td>0</td>\n      <td>5</td>\n      <td>[0.5931767225265503, 0.48217013478279114, -5.8...</td>\n    </tr>\n    <tr>\n      <th>...</th>\n      <td>...</td>\n      <td>...</td>\n      <td>...</td>\n    </tr>\n    <tr>\n      <th>3838</th>\n      <td>230</td>\n      <td>7</td>\n      <td>[0.5812554955482483, 0.45818161964416504, -9.6...</td>\n    </tr>\n    <tr>\n      <th>3839</th>\n      <td>230</td>\n      <td>8</td>\n      <td>[0.5792388916015625, 0.45673084259033203, -1.9...</td>\n    </tr>\n    <tr>\n      <th>3840</th>\n      <td>230</td>\n      <td>9</td>\n      <td>[0.5792388916015625, 0.45673084259033203, -1.9...</td>\n    </tr>\n    <tr>\n      <th>3841</th>\n      <td>230</td>\n      <td>10</td>\n      <td>[0.5756440162658691, 0.4489127993583679, -7.70...</td>\n    </tr>\n    <tr>\n      <th>3842</th>\n      <td>230</td>\n      <td>11</td>\n      <td>[0.5890816450119019, 0.47995275259017944, -2.1...</td>\n    </tr>\n  </tbody>\n</table>\n<p>2623 rows × 3 columns</p>\n</div>"
     },
     "execution_count": 5,
     "metadata": {},
     "output_type": "execute_result"
    }
   ],
   "source": [
    "rojo"
   ],
   "metadata": {
    "collapsed": false,
    "ExecuteTime": {
     "end_time": "2024-03-05T01:42:51.434282300Z",
     "start_time": "2024-03-05T01:42:51.404549200Z"
    }
   },
   "id": "ad10b847f10c6d92",
   "execution_count": 5
  },
  {
   "cell_type": "code",
   "outputs": [
    {
     "name": "stdout",
     "output_type": "stream",
     "text": [
      "(2623, 3)\n",
      "215\n",
      "(3132, 3)\n",
      "201\n",
      "(5809, 3)\n",
      "200\n",
      "(4163, 3)\n",
      "210\n"
     ]
    }
   ],
   "source": [
    "for index, x in enumerate(ls):\n",
    "    print(x.shape)\n",
    "    print(len(x.n_sample.unique()))"
   ],
   "metadata": {
    "collapsed": false,
    "ExecuteTime": {
     "end_time": "2024-03-05T01:42:51.435282200Z",
     "start_time": "2024-03-05T01:42:51.421747400Z"
    }
   },
   "id": "b73c9c8c4df94c5f",
   "execution_count": 6
  },
  {
   "cell_type": "code",
   "outputs": [],
   "source": [
    "for ind, x in enumerate(ls):\n",
    "    for new_num,num in enumerate(x.n_sample.unique()):\n",
    "        indices = x[x.n_sample==num].index\n",
    "        x.loc[indices,\"n_sample\"]=new_num\n",
    "    x.reset_index(drop=True,inplace=True)"
   ],
   "metadata": {
    "collapsed": false,
    "ExecuteTime": {
     "end_time": "2024-03-05T01:42:51.646343200Z",
     "start_time": "2024-03-05T01:42:51.426146700Z"
    }
   },
   "id": "1f00c379048f771f",
   "execution_count": 7
  },
  {
   "cell_type": "code",
   "outputs": [
    {
     "name": "stderr",
     "output_type": "stream",
     "text": [
      "C:\\Users\\wther\\AppData\\Local\\Temp\\ipykernel_16904\\3579541896.py:4: PerformanceWarning: \n",
      "your performance may suffer as PyTables will pickle object types that it cannot\n",
      "map directly to c-types [inferred_type->mixed,key->block1_values] [items->Index(['keypoints'], dtype='object')]\n",
      "\n",
      "  x.to_hdf(f\"../data/treatedDF/{ls_name[index]}_tratado.h5\",key=\"data\",mode=\"w\")\n"
     ]
    }
   ],
   "source": [
    "if not os.path.exists(\"../data/treatedDF/\"):\n",
    "    os.mkdir(\"../data/treatedDF/\")\n",
    "for index, x in enumerate(ls):\n",
    "    x.to_hdf(f\"../data/treatedDF/{ls_name[index]}_tratado.h5\",key=\"data\",mode=\"w\")"
   ],
   "metadata": {
    "collapsed": false,
    "ExecuteTime": {
     "end_time": "2024-03-05T01:42:51.729552300Z",
     "start_time": "2024-03-05T01:42:51.646343200Z"
    }
   },
   "id": "d3c5a9c86b9fe3dc",
   "execution_count": 8
  }
 ],
 "metadata": {
  "kernelspec": {
   "display_name": "Python 3",
   "language": "python",
   "name": "python3"
  },
  "language_info": {
   "codemirror_mode": {
    "name": "ipython",
    "version": 2
   },
   "file_extension": ".py",
   "mimetype": "text/x-python",
   "name": "python",
   "nbconvert_exporter": "python",
   "pygments_lexer": "ipython2",
   "version": "2.7.6"
  }
 },
 "nbformat": 4,
 "nbformat_minor": 5
}
