{
 "cells": [
  {
   "cell_type": "code",
   "execution_count": 1,
   "id": "initial_id",
   "metadata": {
    "collapsed": true,
    "ExecuteTime": {
     "end_time": "2024-03-03T02:23:45.565586400Z",
     "start_time": "2024-03-03T02:23:45.306727900Z"
    }
   },
   "outputs": [],
   "source": [
    "import os\n",
    "import pandas as pd\n",
    "import numpy as np"
   ]
  },
  {
   "cell_type": "code",
   "outputs": [],
   "source": [
    "estudiar = pd.read_hdf(\"../data/dataFrames/estudiar.h5\")\n",
    "hola = pd.read_hdf(\"../data/dataFrames/hola.h5\")\n",
    "mundo = pd.read_hdf(\"../data/dataFrames/mundo.h5\")\n",
    "ordenador = pd.read_hdf(\"../data/dataFrames/ordenador.h5\")"
   ],
   "metadata": {
    "collapsed": false,
    "ExecuteTime": {
     "end_time": "2024-03-03T02:23:47.157904200Z",
     "start_time": "2024-03-03T02:23:45.565586400Z"
    }
   },
   "id": "7e78f1faff581a54",
   "execution_count": 2
  },
  {
   "cell_type": "code",
   "outputs": [
    {
     "name": "stdout",
     "output_type": "stream",
     "text": [
      "Media de frames en el dataset estudiar:  57.94117647058823\n",
      "Forma del dataset estudiar:  (5910, 3)\n",
      "Número de samples en el dataset estudiar:  102\n",
      "\n",
      "Media de frames en el dataset hola:  47.75\n",
      "Forma del dataset hola:  (4775, 3)\n",
      "Número de samples en el dataset hola:  100\n",
      "\n",
      "Media de frames en el dataset mundo:  48.43333333333333\n",
      "Forma del dataset mundo:  (5812, 3)\n",
      "Número de samples en el dataset mundo:  120\n",
      "\n",
      "Media de frames en el dataset ordenador:  36.46808510638298\n",
      "Forma del dataset ordenador:  (3428, 3)\n",
      "Número de samples en el dataset ordenador:  94\n",
      "\n",
      "Media de frames de todas las muestras:  47.648148727576135\n"
     ]
    }
   ],
   "source": [
    "ls = [estudiar,hola,mundo,ordenador]\n",
    "ls_name=[\"estudiar\",\"hola\",\"mundo\",\"ordenador\"]\n",
    "hold = []\n",
    "for index,x in enumerate(ls):\n",
    "    print(f\"Media de frames en el dataset {ls_name[index]}: \",x.groupby(\"n_sample\").frame.count().mean())\n",
    "    hold.append(x.groupby(\"n_sample\").frame.count().mean())\n",
    "    print(f\"Forma del dataset {ls_name[index]}: \",x.shape)\n",
    "    print(f\"Número de samples en el dataset {ls_name[index]}: \",len(x.n_sample.unique()))\n",
    "    print()\n",
    "hold = np.array(hold)\n",
    "print(\"Media de frames de todas las muestras: \",hold.mean())"
   ],
   "metadata": {
    "collapsed": false,
    "ExecuteTime": {
     "end_time": "2024-03-03T02:23:47.167482500Z",
     "start_time": "2024-03-03T02:23:47.157904200Z"
    }
   },
   "id": "9ace9edcede0d29",
   "execution_count": 3
  },
  {
   "cell_type": "markdown",
   "source": [
    "Para ir sobre seguros, vamos a poner un número máximo de 60 frames por sample"
   ],
   "metadata": {
    "collapsed": false
   },
   "id": "909e7bfece693831"
  },
  {
   "cell_type": "code",
   "outputs": [],
   "source": [
    "for ind, x in enumerate(ls):\n",
    "    for num in x.n_sample.unique():\n",
    "        indices = x[x.n_sample==num].index\n",
    "        if x.loc[indices[-1],\"frame\"]>60:\n",
    "            x.drop(indices,inplace=True)"
   ],
   "metadata": {
    "collapsed": false,
    "ExecuteTime": {
     "end_time": "2024-03-03T02:23:47.260731400Z",
     "start_time": "2024-03-03T02:23:47.165483900Z"
    }
   },
   "id": "d5e5cf4c0eb858eb",
   "execution_count": 4
  },
  {
   "cell_type": "code",
   "outputs": [
    {
     "data": {
      "text/plain": "      n_sample  frame                                          keypoints\n216          3      1  [0.6971444487571716, 0.8556317687034607, 9.966...\n217          3      2  [0.6369092464447021, 0.5821623206138611, 3.766...\n218          3      3  [0.6396191120147705, 0.5961028337478638, 2.709...\n219          3      4  [0.6239758729934692, 0.5675631761550903, 1.408...\n220          3      5  [0.6239105463027954, 0.5605350732803345, 2.339...\n...        ...    ...                                                ...\n5905       101     56  [0.5680031180381775, 0.7347278594970703, 1.883...\n5906       101     57  [0.568126380443573, 0.7357924580574036, 2.0140...\n5907       101     58  [0.5688924789428711, 0.736923336982727, 1.9265...\n5908       101     59  [0.5689622759819031, 0.7381030321121216, 1.956...\n5909       101     60  [0.5614861845970154, 0.7480770349502563, 4.348...\n\n[3234 rows x 3 columns]",
      "text/html": "<div>\n<style scoped>\n    .dataframe tbody tr th:only-of-type {\n        vertical-align: middle;\n    }\n\n    .dataframe tbody tr th {\n        vertical-align: top;\n    }\n\n    .dataframe thead th {\n        text-align: right;\n    }\n</style>\n<table border=\"1\" class=\"dataframe\">\n  <thead>\n    <tr style=\"text-align: right;\">\n      <th></th>\n      <th>n_sample</th>\n      <th>frame</th>\n      <th>keypoints</th>\n    </tr>\n  </thead>\n  <tbody>\n    <tr>\n      <th>216</th>\n      <td>3</td>\n      <td>1</td>\n      <td>[0.6971444487571716, 0.8556317687034607, 9.966...</td>\n    </tr>\n    <tr>\n      <th>217</th>\n      <td>3</td>\n      <td>2</td>\n      <td>[0.6369092464447021, 0.5821623206138611, 3.766...</td>\n    </tr>\n    <tr>\n      <th>218</th>\n      <td>3</td>\n      <td>3</td>\n      <td>[0.6396191120147705, 0.5961028337478638, 2.709...</td>\n    </tr>\n    <tr>\n      <th>219</th>\n      <td>3</td>\n      <td>4</td>\n      <td>[0.6239758729934692, 0.5675631761550903, 1.408...</td>\n    </tr>\n    <tr>\n      <th>220</th>\n      <td>3</td>\n      <td>5</td>\n      <td>[0.6239105463027954, 0.5605350732803345, 2.339...</td>\n    </tr>\n    <tr>\n      <th>...</th>\n      <td>...</td>\n      <td>...</td>\n      <td>...</td>\n    </tr>\n    <tr>\n      <th>5905</th>\n      <td>101</td>\n      <td>56</td>\n      <td>[0.5680031180381775, 0.7347278594970703, 1.883...</td>\n    </tr>\n    <tr>\n      <th>5906</th>\n      <td>101</td>\n      <td>57</td>\n      <td>[0.568126380443573, 0.7357924580574036, 2.0140...</td>\n    </tr>\n    <tr>\n      <th>5907</th>\n      <td>101</td>\n      <td>58</td>\n      <td>[0.5688924789428711, 0.736923336982727, 1.9265...</td>\n    </tr>\n    <tr>\n      <th>5908</th>\n      <td>101</td>\n      <td>59</td>\n      <td>[0.5689622759819031, 0.7381030321121216, 1.956...</td>\n    </tr>\n    <tr>\n      <th>5909</th>\n      <td>101</td>\n      <td>60</td>\n      <td>[0.5614861845970154, 0.7480770349502563, 4.348...</td>\n    </tr>\n  </tbody>\n</table>\n<p>3234 rows × 3 columns</p>\n</div>"
     },
     "execution_count": 5,
     "metadata": {},
     "output_type": "execute_result"
    }
   ],
   "source": [
    "estudiar"
   ],
   "metadata": {
    "collapsed": false,
    "ExecuteTime": {
     "end_time": "2024-03-03T02:23:47.260731400Z",
     "start_time": "2024-03-03T02:23:47.243200400Z"
    }
   },
   "id": "ad10b847f10c6d92",
   "execution_count": 5
  },
  {
   "cell_type": "code",
   "outputs": [
    {
     "name": "stdout",
     "output_type": "stream",
     "text": [
      "(3234, 3)\n",
      "64\n",
      "(3283, 3)\n",
      "81\n",
      "(5560, 3)\n",
      "116\n",
      "(3428, 3)\n",
      "94\n"
     ]
    }
   ],
   "source": [
    "for index, x in enumerate(ls):\n",
    "    print(x.shape)\n",
    "    print(len(x.n_sample.unique()))"
   ],
   "metadata": {
    "collapsed": false,
    "ExecuteTime": {
     "end_time": "2024-03-03T02:23:47.261731700Z",
     "start_time": "2024-03-03T02:23:47.254035500Z"
    }
   },
   "id": "b73c9c8c4df94c5f",
   "execution_count": 6
  },
  {
   "cell_type": "code",
   "outputs": [],
   "source": [
    "for ind, x in enumerate(ls):\n",
    "    for new_num,num in enumerate(x.n_sample.unique()):\n",
    "        indices = x[x.n_sample==num].index\n",
    "        x.loc[indices,\"n_sample\"]=200+new_num"
   ],
   "metadata": {
    "collapsed": false,
    "ExecuteTime": {
     "end_time": "2024-03-03T02:23:47.358494600Z",
     "start_time": "2024-03-03T02:23:47.258733Z"
    }
   },
   "id": "1f00c379048f771f",
   "execution_count": 7
  },
  {
   "cell_type": "code",
   "outputs": [
    {
     "data": {
      "text/plain": "      n_sample  frame                                          keypoints\n216        200      1  [0.6971444487571716, 0.8556317687034607, 9.966...\n217        200      2  [0.6369092464447021, 0.5821623206138611, 3.766...\n218        200      3  [0.6396191120147705, 0.5961028337478638, 2.709...\n219        200      4  [0.6239758729934692, 0.5675631761550903, 1.408...\n220        200      5  [0.6239105463027954, 0.5605350732803345, 2.339...\n...        ...    ...                                                ...\n5905       263     56  [0.5680031180381775, 0.7347278594970703, 1.883...\n5906       263     57  [0.568126380443573, 0.7357924580574036, 2.0140...\n5907       263     58  [0.5688924789428711, 0.736923336982727, 1.9265...\n5908       263     59  [0.5689622759819031, 0.7381030321121216, 1.956...\n5909       263     60  [0.5614861845970154, 0.7480770349502563, 4.348...\n\n[3234 rows x 3 columns]",
      "text/html": "<div>\n<style scoped>\n    .dataframe tbody tr th:only-of-type {\n        vertical-align: middle;\n    }\n\n    .dataframe tbody tr th {\n        vertical-align: top;\n    }\n\n    .dataframe thead th {\n        text-align: right;\n    }\n</style>\n<table border=\"1\" class=\"dataframe\">\n  <thead>\n    <tr style=\"text-align: right;\">\n      <th></th>\n      <th>n_sample</th>\n      <th>frame</th>\n      <th>keypoints</th>\n    </tr>\n  </thead>\n  <tbody>\n    <tr>\n      <th>216</th>\n      <td>200</td>\n      <td>1</td>\n      <td>[0.6971444487571716, 0.8556317687034607, 9.966...</td>\n    </tr>\n    <tr>\n      <th>217</th>\n      <td>200</td>\n      <td>2</td>\n      <td>[0.6369092464447021, 0.5821623206138611, 3.766...</td>\n    </tr>\n    <tr>\n      <th>218</th>\n      <td>200</td>\n      <td>3</td>\n      <td>[0.6396191120147705, 0.5961028337478638, 2.709...</td>\n    </tr>\n    <tr>\n      <th>219</th>\n      <td>200</td>\n      <td>4</td>\n      <td>[0.6239758729934692, 0.5675631761550903, 1.408...</td>\n    </tr>\n    <tr>\n      <th>220</th>\n      <td>200</td>\n      <td>5</td>\n      <td>[0.6239105463027954, 0.5605350732803345, 2.339...</td>\n    </tr>\n    <tr>\n      <th>...</th>\n      <td>...</td>\n      <td>...</td>\n      <td>...</td>\n    </tr>\n    <tr>\n      <th>5905</th>\n      <td>263</td>\n      <td>56</td>\n      <td>[0.5680031180381775, 0.7347278594970703, 1.883...</td>\n    </tr>\n    <tr>\n      <th>5906</th>\n      <td>263</td>\n      <td>57</td>\n      <td>[0.568126380443573, 0.7357924580574036, 2.0140...</td>\n    </tr>\n    <tr>\n      <th>5907</th>\n      <td>263</td>\n      <td>58</td>\n      <td>[0.5688924789428711, 0.736923336982727, 1.9265...</td>\n    </tr>\n    <tr>\n      <th>5908</th>\n      <td>263</td>\n      <td>59</td>\n      <td>[0.5689622759819031, 0.7381030321121216, 1.956...</td>\n    </tr>\n    <tr>\n      <th>5909</th>\n      <td>263</td>\n      <td>60</td>\n      <td>[0.5614861845970154, 0.7480770349502563, 4.348...</td>\n    </tr>\n  </tbody>\n</table>\n<p>3234 rows × 3 columns</p>\n</div>"
     },
     "execution_count": 8,
     "metadata": {},
     "output_type": "execute_result"
    }
   ],
   "source": [
    "estudiar"
   ],
   "metadata": {
    "collapsed": false,
    "ExecuteTime": {
     "end_time": "2024-03-03T02:23:47.370494300Z",
     "start_time": "2024-03-03T02:23:47.359494800Z"
    }
   },
   "id": "15fbfb92b9a69fd8",
   "execution_count": 8
  },
  {
   "cell_type": "code",
   "outputs": [],
   "source": [
    "for ind, x in enumerate(ls):\n",
    "    for new_num,num in enumerate(x.n_sample.unique()):\n",
    "        indices = x[x.n_sample==num].index\n",
    "        x.loc[indices,\"n_sample\"]=x.loc[indices,\"n_sample\"]-200\n",
    "    x.reset_index(drop=True,inplace=True)"
   ],
   "metadata": {
    "collapsed": false,
    "ExecuteTime": {
     "end_time": "2024-03-03T02:23:47.541642500Z",
     "start_time": "2024-03-03T02:23:47.369493500Z"
    }
   },
   "id": "c345bf3041c3a9c8",
   "execution_count": 9
  },
  {
   "cell_type": "code",
   "outputs": [
    {
     "name": "stderr",
     "output_type": "stream",
     "text": [
      "C:\\Users\\wther\\AppData\\Local\\Temp\\ipykernel_22332\\3579541896.py:4: PerformanceWarning: \n",
      "your performance may suffer as PyTables will pickle object types that it cannot\n",
      "map directly to c-types [inferred_type->mixed,key->block1_values] [items->Index(['keypoints'], dtype='object')]\n",
      "\n",
      "  x.to_hdf(f\"../data/treatedDF/{ls_name[index]}_tratado.h5\",key=\"data\",mode=\"w\")\n"
     ]
    }
   ],
   "source": [
    "if not os.path.exists(\"../data/treatedDF/\"):\n",
    "    os.mkdir(\"../data/treatedDF/\")\n",
    "for index, x in enumerate(ls):\n",
    "    x.to_hdf(f\"../data/treatedDF/{ls_name[index]}_tratado.h5\",key=\"data\",mode=\"w\")"
   ],
   "metadata": {
    "collapsed": false,
    "ExecuteTime": {
     "end_time": "2024-03-03T02:23:47.642185Z",
     "start_time": "2024-03-03T02:23:47.541642500Z"
    }
   },
   "id": "d3c5a9c86b9fe3dc",
   "execution_count": 10
  }
 ],
 "metadata": {
  "kernelspec": {
   "display_name": "Python 3",
   "language": "python",
   "name": "python3"
  },
  "language_info": {
   "codemirror_mode": {
    "name": "ipython",
    "version": 2
   },
   "file_extension": ".py",
   "mimetype": "text/x-python",
   "name": "python",
   "nbconvert_exporter": "python",
   "pygments_lexer": "ipython2",
   "version": "2.7.6"
  }
 },
 "nbformat": 4,
 "nbformat_minor": 5
}
